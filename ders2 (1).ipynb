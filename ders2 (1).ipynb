{
  "nbformat": 4,
  "nbformat_minor": 0,
  "metadata": {
    "colab": {
      "provenance": []
    },
    "kernelspec": {
      "name": "python3",
      "display_name": "Python 3"
    },
    "language_info": {
      "name": "python"
    }
  },
  "cells": [
    {
      "cell_type": "code",
      "execution_count": null,
      "metadata": {
        "id": "VBSRaM5gI2wr"
      },
      "outputs": [],
      "source": [
        "print (\"Merhaba Python Algoritma Sınıfı \")"
      ]
    },
    {
      "cell_type": "code",
      "source": [
        "y=10\n",
        "x= float(y)\n",
        "\n",
        "print(x,type(x))\n"
      ],
      "metadata": {
        "colab": {
          "base_uri": "https://localhost:8080/"
        },
        "id": "bQzPjEJwKa5e",
        "outputId": "f18c060b-8a7d-48e7-d88a-3c85efc2c4f5"
      },
      "execution_count": 2,
      "outputs": [
        {
          "output_type": "stream",
          "name": "stdout",
          "text": [
            "10.0 <class 'float'>\n"
          ]
        }
      ]
    },
    {
      "cell_type": "markdown",
      "source": [
        "string bilgi türü metinsel ifadedir\n",
        "integer bilgi türü sayılsal ifadedir"
      ],
      "metadata": {
        "id": "ZnYkCO7iLCHP"
      }
    },
    {
      "cell_type": "code",
      "source": [
        "import sys #import python programlama dilinde kütüphane eklemeye yarayan bir kod blogudur.\n",
        "print(sys.version)"
      ],
      "metadata": {
        "colab": {
          "base_uri": "https://localhost:8080/"
        },
        "id": "w7mcjXlAMt28",
        "outputId": "d1e8db4f-eba5-4b86-f216-5edebd05782e"
      },
      "execution_count": null,
      "outputs": [
        {
          "output_type": "stream",
          "name": "stdout",
          "text": [
            "3.11.11 (main, Dec  4 2024, 08:55:07) [GCC 11.4.0]\n"
          ]
        }
      ]
    },
    {
      "cell_type": "code",
      "source": [
        "from google.colab import drive\n",
        "drive.mount('/content/drive')"
      ],
      "metadata": {
        "colab": {
          "base_uri": "https://localhost:8080/"
        },
        "id": "XbuvkZVFO78j",
        "outputId": "f85e955f-6ee3-4485-f0bd-bfc863acb294"
      },
      "execution_count": null,
      "outputs": [
        {
          "output_type": "stream",
          "name": "stdout",
          "text": [
            "Mounted at /content/drive\n"
          ]
        }
      ]
    },
    {
      "cell_type": "code",
      "source": [
        "import os\n",
        "os.chdir('/content/drive/My Drive/algoritma_myo')"
      ],
      "metadata": {
        "id": "2z97HC1gPcV7"
      },
      "execution_count": null,
      "outputs": []
    },
    {
      "cell_type": "code",
      "source": [
        "# geçerli bir değişken tanımı\n",
        "\n",
        "degisken1 = 10\n",
        "\n",
        "Degisken2 = 20\n",
        "\n",
        "degisken_3 = 30\n",
        "\n",
        "_degisken_4 = 40\n",
        "\n",
        "print(degisken1)\n",
        "print(Degisken2)\n",
        "print(degisken_3)\n",
        "print(_degisken_4)"
      ],
      "metadata": {
        "colab": {
          "base_uri": "https://localhost:8080/"
        },
        "id": "Gt1vmCJrcqiI",
        "outputId": "944c8da2-00bd-4ca8-c09c-857fb746d4e0"
      },
      "execution_count": null,
      "outputs": [
        {
          "output_type": "stream",
          "name": "stdout",
          "text": [
            "10\n",
            "20\n",
            "30\n",
            "40\n"
          ]
        }
      ]
    },
    {
      "cell_type": "code",
      "source": [
        "x =5\n",
        "y=(\"merhaba dünya\")\n",
        "print(x)\n",
        "print(y)\n"
      ],
      "metadata": {
        "colab": {
          "base_uri": "https://localhost:8080/"
        },
        "id": "NdPVVMH3gDpz",
        "outputId": "763c2ea2-3163-4815-e62b-a4317851e040"
      },
      "execution_count": null,
      "outputs": [
        {
          "output_type": "stream",
          "name": "stdout",
          "text": [
            "5\n",
            "merhaba dünya\n"
          ]
        }
      ]
    },
    {
      "cell_type": "code",
      "source": [
        "#string - metinsel bilgiyi değişkene atama işlemi\n",
        "c=\"Python proglama\"\n"
      ],
      "metadata": {
        "id": "BDbrr88SMz6X"
      },
      "execution_count": null,
      "outputs": []
    },
    {
      "cell_type": "code",
      "source": [
        "#boolean (true doğru -false yanlış) değişken tanımlaması\n",
        "d = True # 1 - aktif\n",
        "e = False # 0 - pasif\n",
        "print(d)\n",
        "print(type(e))\n"
      ],
      "metadata": {
        "colab": {
          "base_uri": "https://localhost:8080/"
        },
        "id": "NAuEa-f1NZVf",
        "outputId": "91365055-19d6-49f3-ebd2-1cc66329612e"
      },
      "execution_count": 4,
      "outputs": [
        {
          "output_type": "stream",
          "name": "stdout",
          "text": [
            "True\n",
            "<class 'bool'>\n"
          ]
        }
      ]
    },
    {
      "cell_type": "code",
      "source": [
        "# list - liste ---> dizi tanımlaması\n",
        "liste =[1,2,3,4,5]\n",
        "print(type(liste),liste )\n"
      ],
      "metadata": {
        "colab": {
          "base_uri": "https://localhost:8080/"
        },
        "id": "CwNJwZH0PJuh",
        "outputId": "f92a5ad0-13cf-4243-ce76-a3ca6c5c0e9f"
      },
      "execution_count": 5,
      "outputs": [
        {
          "output_type": "stream",
          "name": "stdout",
          "text": [
            "<class 'list'> [1, 2, 3, 4, 5]\n"
          ]
        }
      ]
    },
    {
      "cell_type": "markdown",
      "source": [
        "boo\n",
        "int\n",
        "float\n",
        "string\n",
        "liste\n",
        "demet\n",
        "sözlük"
      ],
      "metadata": {
        "id": "0wENs5hzQi9b"
      }
    },
    {
      "cell_type": "code",
      "source": [
        "# demet - tuple veri tipi tanımlaması\n",
        "demet = (1,2,3,4,5)\n",
        "print(type(demet), demet)"
      ],
      "metadata": {
        "colab": {
          "base_uri": "https://localhost:8080/"
        },
        "id": "VuWn7scXQyha",
        "outputId": "70698381-9f56-44d4-9926-98d29fe78068"
      },
      "execution_count": 7,
      "outputs": [
        {
          "output_type": "stream",
          "name": "stdout",
          "text": [
            "<class 'tuple'> (1, 2, 3, 4, 5)\n"
          ]
        }
      ]
    },
    {
      "cell_type": "code",
      "source": [
        "notlar = {\n",
        "    \"Ali\": 85,\n",
        "    \"Veli\": 90,\n",
        "    \"Ayşe\": 78\n",
        "}\n",
        "\n",
        "notlar[\"Fatma\"] = 95 # yeni öğrenci ekleme yöntemi\n",
        "notlar[\"Ali\"] = 88 # mevucttaki öğrencinin notunu günleme işlemi\n",
        "\n",
        "print(notlar)\n",
        "\n",
        "\n",
        "print(notlar.keys ()) #değişkenler alınıyor\n",
        "print (notlar.values())\n",
        "print(notlar.items())\n",
        "\n"
      ],
      "metadata": {
        "colab": {
          "base_uri": "https://localhost:8080/"
        },
        "id": "-RwO4oHybU9s",
        "outputId": "98c76856-d0ce-4f2f-91ab-7bb24ed75da9"
      },
      "execution_count": 10,
      "outputs": [
        {
          "output_type": "stream",
          "name": "stdout",
          "text": [
            "{'Ali': 88, 'Veli': 90, 'Ayşe': 78, 'Fatma': 95}\n",
            "dict_keys(['Ali', 'Veli', 'Ayşe', 'Fatma'])\n",
            "dict_values([88, 90, 78, 95])\n",
            "dict_items([('Ali', 88), ('Veli', 90), ('Ayşe', 78), ('Fatma', 95)])\n"
          ]
        }
      ]
    },
    {
      "cell_type": "code",
      "source": [
        "# Set Küme veri tipi\n",
        "\n",
        "kodyazanlar = {\"Ahmet\", \"Mehmet\", \"Ayşe\"}\n",
        "kodyazmayanlar = {\"Ayşe\", \"Fatma\", \"Veli\"}\n",
        "\n",
        "ortak = kodyazanlar.intersection(kodyazmayanlar)\n",
        "print(\"Kafasına Göre Takılan Arkadaşlar: \", ortak)\n",
        "\n",
        "kod_yazmayanlar = kodyazmayanlar.difference(kodyazanlar)\n",
        "print(\"Kod çalışması yapmayanlar: \", kod_yazmayanlar)\n",
        "\n",
        "imzalistesi = kodyazanlar.union(kodyazmayanlar)\n",
        "print(\"Sınıf İmza Listesi: \", imzalistesi)"
      ],
      "metadata": {
        "colab": {
          "base_uri": "https://localhost:8080/"
        },
        "id": "nCVE8Zuodesj",
        "outputId": "22616d86-5d85-4999-94a7-6cb096c851a6"
      },
      "execution_count": 11,
      "outputs": [
        {
          "output_type": "stream",
          "name": "stdout",
          "text": [
            "Kafasına Göre Takılan Arkadaşlar:  {'Ayşe'}\n",
            "Kod çalışması yapmayanlar:  {'Veli', 'Fatma'}\n",
            "Sınıf İmza Listesi:  {'Ahmet', 'Veli', 'Fatma', 'Ayşe', 'Mehmet'}\n"
          ]
        }
      ]
    },
    {
      "cell_type": "code",
      "source": [
        "giris=input (\"bir sayıgiriniz\")\n",
        "print(giris)\n"
      ],
      "metadata": {
        "colab": {
          "base_uri": "https://localhost:8080/"
        },
        "id": "vAZOSH9jeu_a",
        "outputId": "8dada43a-03c6-422f-9ad6-5b9a0daa42de"
      },
      "execution_count": 12,
      "outputs": [
        {
          "output_type": "stream",
          "name": "stdout",
          "text": [
            "bir sayıgiriniz66\n",
            "66\n"
          ]
        }
      ]
    },
    {
      "cell_type": "code",
      "source": [
        "giris = input (\"bir sayı giriniz\")\n",
        "try :\n",
        "  numara= float(giris)\n",
        "  print(\"girilen sayı:\",numara)\n",
        "except ValueError:\n",
        "  print(\"hatalı girişi yaptınız lütfen tekrar deneeyiniz\")\n",
        ""
      ],
      "metadata": {
        "colab": {
          "base_uri": "https://localhost:8080/"
        },
        "id": "n_kGISHVftJL",
        "outputId": "7b9f9c99-6dfa-4b97-a95b-086f136cef3a"
      },
      "execution_count": 13,
      "outputs": [
        {
          "output_type": "stream",
          "name": "stdout",
          "text": [
            "bir sayı giriniza\n",
            "hatalı girişi yaptınız lütfen tekrar deneeyiniz\n"
          ]
        }
      ]
    },
    {
      "cell_type": "code",
      "source": [
        "import random\n",
        "rastgele = random.random()# random fonksiyonu bize 0 ve 1 arasında rastgele bir sayı üreten\n",
        "\n",
        "print (\"rastgele gelen değer:\",rastgele )\n"
      ],
      "metadata": {
        "colab": {
          "base_uri": "https://localhost:8080/"
        },
        "id": "KuIGZ5fbifv4",
        "outputId": "31a72b7e-b405-45fc-c6d6-25c805e50134"
      },
      "execution_count": 14,
      "outputs": [
        {
          "output_type": "stream",
          "name": "stdout",
          "text": [
            "rastgele gelen değer: 0.9977599387818177\n"
          ]
        }
      ]
    }
  ]
}